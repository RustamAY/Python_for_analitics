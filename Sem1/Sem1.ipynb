{
  "cells": [
    {
      "cell_type": "markdown",
      "metadata": {},
      "source": [
        "## Задача 1\n",
        "\n",
        "### 1.1 Соедените два словаря в один\n",
        "\n",
        "dict1 = {'One' : 1, 'Two' : 2, 'Three' : 3}  \n",
        "dict1 = {'Four' : 4, 'Five' : 5, 'Six' : 6}"
      ]
    },
    {
      "cell_type": "code",
      "execution_count": 1,
      "metadata": {
        "trusted": true
      },
      "outputs": [],
      "source": [
        "dict1 = {'One' : 1, 'Two' : 2, 'Three' : 3}\n",
        "dict2 = {'Four' : 4, 'Five' : 5, 'Six' : 6}"
      ]
    },
    {
      "cell_type": "code",
      "execution_count": 2,
      "metadata": {
        "trusted": true
      },
      "outputs": [
        {
          "data": {
            "text/plain": [
              "{'One': 1, 'Two': 2, 'Three': 3, 'Four': 4, 'Five': 5, 'Six': 6}"
            ]
          },
          "execution_count": 2,
          "metadata": {},
          "output_type": "execute_result"
        }
      ],
      "source": [
        "dict1.update(dict2)\n",
        "dict1"
      ]
    },
    {
      "cell_type": "markdown",
      "metadata": {},
      "source": [
        "### 1.2 Напишите функцию, которая на вход два словаря и возврашает один объеденёный словарь"
      ]
    },
    {
      "cell_type": "code",
      "execution_count": 4,
      "metadata": {
        "trusted": true
      },
      "outputs": [
        {
          "data": {
            "text/plain": [
              "{'One': 1, 'Two': 2, 'Three': 3, 'Four': 4, 'Five': 5, 'Six': 6}"
            ]
          },
          "execution_count": 4,
          "metadata": {},
          "output_type": "execute_result"
        }
      ],
      "source": [
        "def merg_dict(dict1:dict, dict2:dict) -> dict:\n",
        "    dict1.update(dict2)\n",
        "    return dict1\n",
        "\n",
        "merg_dict(dict1, dict2)"
      ]
    },
    {
      "cell_type": "markdown",
      "metadata": {},
      "source": [
        "## Задача 2\n",
        "Напишите функцию, котороя из двух списков делает один словарь, где элементы первого списка - ключи, а элементы второго списка - значения  \n",
        "Keys = ['one', 'Two', 'Three']  \n",
        "values = [1, 2, 3]"
      ]
    },
    {
      "cell_type": "code",
      "execution_count": 10,
      "metadata": {
        "trusted": true
      },
      "outputs": [],
      "source": [
        "keys = ['one', 'Two', 'Three']\n",
        "values = [1, 2, 3]"
      ]
    },
    {
      "cell_type": "markdown",
      "metadata": {},
      "source": [
        "## 2.1 Используя цикл for"
      ]
    },
    {
      "cell_type": "code",
      "execution_count": 11,
      "metadata": {
        "trusted": true
      },
      "outputs": [
        {
          "data": {
            "text/plain": [
              "{'one': 1, 'Two': 2, 'Three': 3}"
            ]
          },
          "execution_count": 11,
          "metadata": {},
          "output_type": "execute_result"
        }
      ],
      "source": [
        "def get_dict(keys: list, values: list) -> dict2:\n",
        "    res_dict = {}\n",
        "    for i in range(len(keys)):\n",
        "        res_dict.update({keys[i]:values[i]})\n",
        "    return res_dict\n",
        "    \n",
        "get_dict(keys, values)"
      ]
    },
    {
      "cell_type": "markdown",
      "metadata": {},
      "source": [
        "### 2.2 Используя dict comprehensions"
      ]
    },
    {
      "cell_type": "code",
      "execution_count": 14,
      "metadata": {
        "trusted": true
      },
      "outputs": [
        {
          "data": {
            "text/plain": [
              "{'one': 1, 'Two': 2, 'Three': 3}"
            ]
          },
          "execution_count": 14,
          "metadata": {},
          "output_type": "execute_result"
        }
      ],
      "source": [
        "def get_dict(keys: list, values: list) -> dict:\n",
        "    return {keys[i]:values[i] for i in range(len(values))}\n",
        "    \n",
        "get_dict(keys, values)"
      ]
    },
    {
      "cell_type": "markdown",
      "metadata": {},
      "source": [
        "## Задание 3\n",
        "### 3.1 Напишите функцию с циклом for\n",
        "Функция на вход принимает:\n",
        "- исходный словарь\n",
        "- ключи, которые нужно извлечь(аргумент по умолчанию)\n",
        "\n",
        "На выходе словарь с нужными ключами  \n",
        "\n",
        "Используйте анотирование типов"
      ]
    },
    {
      "cell_type": "code",
      "execution_count": null,
      "metadata": {
        "trusted": true
      },
      "outputs": [],
      "source": [
        "client_dict = {\n",
        "    \"name\": \"John\",\n",
        "    \"age\": 25,\n",
        "    \"salary\": 5000,\n",
        "    \"city\": \"Moscow\"\n",
        "}\n",
        "keys = ['name', 'age']"
      ]
    },
    {
      "cell_type": "code",
      "execution_count": 18,
      "metadata": {
        "trusted": true
      },
      "outputs": [
        {
          "data": {
            "text/plain": [
              "{'name': 'John', 'age': 25}"
            ]
          },
          "execution_count": 18,
          "metadata": {},
          "output_type": "execute_result"
        }
      ],
      "source": [
        "def get_keys_from_dict(base_dict: dict, keys: list=['name', 'age']) -> dict:\n",
        "    res = {}\n",
        "    for k in keys:\n",
        "        res.update({k: base_dict[k]})\n",
        "    return res\n",
        "\n",
        "get_keys_from_dict(client_dict)"
      ]
    },
    {
      "cell_type": "markdown",
      "metadata": {},
      "source": [
        "### 3.2 Используя dict comprehensions"
      ]
    },
    {
      "cell_type": "code",
      "execution_count": 19,
      "metadata": {
        "trusted": true
      },
      "outputs": [
        {
          "data": {
            "text/plain": [
              "{'name': 'John', 'age': 25}"
            ]
          },
          "execution_count": 19,
          "metadata": {},
          "output_type": "execute_result"
        }
      ],
      "source": [
        "new_dict = {i: client_dict[i] for i in keys}\n",
        "new_dict"
      ]
    },
    {
      "cell_type": "code",
      "execution_count": null,
      "metadata": {},
      "outputs": [],
      "source": []
    }
  ],
  "metadata": {
    "kernelspec": {
      "display_name": "Python 3",
      "language": "python",
      "name": "python3"
    },
    "language_info": {
      "codemirror_mode": {
        "name": "python",
        "version": 3
      },
      "file_extension": ".py",
      "mimetype": "text/x-python",
      "name": "python",
      "nbconvert_exporter": "python",
      "pygments_lexer": "ipython3",
      "version": "3.10.11"
    }
  },
  "nbformat": 4,
  "nbformat_minor": 4
}
