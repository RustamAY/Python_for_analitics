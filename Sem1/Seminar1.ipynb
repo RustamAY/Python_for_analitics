{
  "metadata": {
    "kernelspec": {
      "name": "python",
      "display_name": "Python (Pyodide)",
      "language": "python"
    },
    "language_info": {
      "codemirror_mode": {
        "name": "python",
        "version": 3
      },
      "file_extension": ".py",
      "mimetype": "text/x-python",
      "name": "python",
      "nbconvert_exporter": "python",
      "pygments_lexer": "ipython3",
      "version": "3.8"
    }
  },
  "nbformat_minor": 5,
  "nbformat": 4,
  "cells": [
    {
      "cell_type": "markdown",
      "source": "## 1 Задача\n### 1.1 Соедените два словаря в олин\ndict1 = {'One': 1, 'Two' : 2, 'Three': 3}\n\ndict2 = {'Four': 4, 'Five': 5, 'Six': 6}",
      "metadata": {},
      "id": "8fc433ef-67db-48f5-9ea6-a08c42c7f722"
    },
    {
      "cell_type": "code",
      "source": "dict1 = {'One': 1, 'Two' : 2, 'Three': 3}\ndict2 = {'Four': 4, 'Five': 5, 'Six': 6}",
      "metadata": {
        "trusted": true
      },
      "execution_count": 28,
      "outputs": [],
      "id": "960cf764-7936-4d6e-9ae1-1ce5272e8012"
    },
    {
      "cell_type": "code",
      "source": "dict1.update(dict2)\ndict1",
      "metadata": {
        "trusted": true
      },
      "execution_count": 30,
      "outputs": [
        {
          "execution_count": 30,
          "output_type": "execute_result",
          "data": {
            "text/plain": "{'One': 1, 'Two': 2, 'Three': 3, 'Four': 4, 'Five': 5, 'Six': 6}"
          },
          "metadata": {}
        }
      ],
      "id": "201ded33-e462-477a-9a34-2de9c51c4c1a"
    },
    {
      "cell_type": "markdown",
      "source": "### 1.2 Напишите функцию, которая на вход два словаря и возврашает один объеденёный словарь",
      "metadata": {},
      "id": "a9be5aca-55d4-437c-bcb0-4d1999feec7d"
    },
    {
      "cell_type": "code",
      "source": "def merg_dict(dict1:dict, dict2:dict) -> dict:\n    dict1.update(dict2)\n    return dict1\n\nmerg_dict(dict1, dict2)",
      "metadata": {
        "trusted": true
      },
      "execution_count": 31,
      "outputs": [
        {
          "execution_count": 31,
          "output_type": "execute_result",
          "data": {
            "text/plain": "{'One': 1, 'Two': 2, 'Three': 3, 'Four': 4, 'Five': 5, 'Six': 6}"
          },
          "metadata": {}
        }
      ],
      "id": "639d90bb-a0a0-4a88-be3c-65b92d98e184"
    },
    {
      "cell_type": "markdown",
      "source": "## Задача 2\nНапишите функцию, котороя из двух списков делает один словарь, где элементы первого списка - ключи, а элементы второго списка - значения  \nKeys = ['one', 'Two', 'Three']  \nvalues = [1, 2, 3]\n\nИспользуйте анотирование типов",
      "metadata": {},
      "id": "214b70f0-3a87-4010-9997-8b8521682ae3"
    },
    {
      "cell_type": "code",
      "source": "keys = ['one', 'Two', 'Three']\nvalues = [1, 2, 3]",
      "metadata": {
        "trusted": true
      },
      "execution_count": 32,
      "outputs": [],
      "id": "2d1c2440-d9c8-4fc4-9e01-054c0b1d62b8"
    },
    {
      "cell_type": "markdown",
      "source": "## 2.1 Используя цикл for",
      "metadata": {},
      "id": "80e52497-3199-4491-92c8-7a7bf6ed6d22"
    },
    {
      "cell_type": "code",
      "source": "def get_dict(keys: list, values: list) -> dict2:\n    res_dict = {}\n    for i in range(len(keys)):\n        res_dict.update({keys[i]:values[i]})\n    return res_dict\n    \nget_dict(keys, values)",
      "metadata": {
        "trusted": true
      },
      "execution_count": 33,
      "outputs": [
        {
          "execution_count": 33,
          "output_type": "execute_result",
          "data": {
            "text/plain": "{'one': 1, 'Two': 2, 'Three': 3}"
          },
          "metadata": {}
        }
      ],
      "id": "256e7781-638f-4fc1-ba51-1e80a0ed1787"
    },
    {
      "cell_type": "markdown",
      "source": "### 2.2 Используя dict comprehensions",
      "metadata": {},
      "id": "20960dab-9cde-4a74-8b26-c3f3091cac53"
    },
    {
      "cell_type": "code",
      "source": "def get_dict(keys: list, values: list) -> dict:\n    return {keys[i]:values[i] for i in range(len(values))}\n    \nget_dict(keys, values)",
      "metadata": {
        "trusted": true
      },
      "execution_count": 8,
      "outputs": [
        {
          "execution_count": 8,
          "output_type": "execute_result",
          "data": {
            "text/plain": "{'one': 1, 'Two': 2, 'Three': 3}"
          },
          "metadata": {}
        }
      ],
      "id": "ee264990-634d-4f2f-98ed-610003e5ddd6"
    },
    {
      "cell_type": "markdown",
      "source": "## Задание 3\n### 3.1 Напишите функцию с циклом for\nФункция на вход принимает:\n- исходный словарь\n- ключи, которые нужно извлечь(аргумент по умолчанию)\n\nНа выходе словарь с нужными ключами  \n\nИспользуйте анотирование типов",
      "metadata": {},
      "id": "5c5db7e0-d339-4112-a079-39312a34647e"
    },
    {
      "cell_type": "code",
      "source": "client_dict = {\n    \"name\": \"John\",\n    \"age\": 25,\n    \"salary\": 5000,\n    \"city\": \"Moscow\"\n}\nkeys = ['name', 'age']",
      "metadata": {
        "trusted": true
      },
      "execution_count": 9,
      "outputs": [],
      "id": "e6d622ad-323a-416f-9dae-853247686357"
    },
    {
      "cell_type": "code",
      "source": "def get_keys_from_dict(base_dict: dict, keys: list=['name', 'age']) -> dict:\n    res = {}\n    for k in keys:\n        res.update({k: base_dict[k]})\n    return res\n\nget_keys_from_dict(client_dict)",
      "metadata": {
        "trusted": true
      },
      "execution_count": 10,
      "outputs": [
        {
          "execution_count": 10,
          "output_type": "execute_result",
          "data": {
            "text/plain": "{'name': 'John', 'age': 25}"
          },
          "metadata": {}
        }
      ],
      "id": "c4bb7362-fca7-46c0-b289-eb0b0ecabdb9"
    },
    {
      "cell_type": "markdown",
      "source": "### 3.2 Используя dict comprehensions",
      "metadata": {},
      "id": "39b2217a-5546-4275-8b5b-228600a34cfe"
    },
    {
      "cell_type": "markdown",
      "source": "### 3.2 Используя dict comprehensions",
      "metadata": {},
      "id": "a6715b75-0fc0-402d-8cb2-3fbbc103c756"
    },
    {
      "cell_type": "code",
      "source": "new_dict = {i: client_dict[i] for i in keys}\nnew_dict",
      "metadata": {
        "trusted": true
      },
      "execution_count": 27,
      "outputs": [
        {
          "execution_count": 27,
          "output_type": "execute_result",
          "data": {
            "text/plain": "{'name': 'John', 'age': 25}"
          },
          "metadata": {}
        }
      ],
      "id": "d54bae99-059f-41ad-8c26-b8e223f59c84"
    },
    {
      "cell_type": "markdown",
      "source": "### 5.1 Найдите картинку в интернете и прикрепите её а ячейку с текстом",
      "metadata": {},
      "id": "553b9493-c174-491b-9316-9d490501575b"
    },
    {
      "cell_type": "markdown",
      "source": "<img src = \"Тут должна быть картинка с интернета\">",
      "metadata": {},
      "id": "68e2f39c-6e16-49c9-bfdc-75c6a1533a5f"
    },
    {
      "cell_type": "markdown",
      "source": "### 5.2 Создайте следующую таблицу в ячейке с текстом",
      "metadata": {},
      "id": "5b7748e5-6f89-4b33-a3df-1e900b9fc24f"
    },
    {
      "cell_type": "markdown",
      "source": "<table>\n    <tr>\n        <td> </td>\n        <td> До события </td>\n        <td> Во время события </td>\n    </tr>\n    <tr>\n        <td>1 контрольная точка </td>\n        <td>250</td>\n        <td>500</td>\n    </tr>\n    <tr>\n        <td>2 контрольная точка </td>\n        <td>350</td>\n        <td>700</td>\n    </tr>\n    <tr>\n        <td>3 контрольная точка </td>\n        <td>400</td>\n        <td>800</td>\n    </tr>\n    <tr>\n        <td>Итого за победу </td>\n        <td>1000</td>\n        <td>2000</td>\n    </tr>\n</table>",
      "metadata": {},
      "id": "f43b6646-c953-40b6-905d-a3ed971cf7b2"
    },
    {
      "cell_type": "markdown",
      "source": "## 6 задача\nНапишите функцию, которая может принимать любое количество трат пользователя и считать сумму и среднее.\n\n- На вход поступают целочисленные значения в любом количестве\n- На выходе словарь с ключами суммы трат и средней траты",
      "metadata": {},
      "id": "4961caaf-bf18-40ef-ac10-2379b9dc8e6c"
    },
    {
      "cell_type": "code",
      "source": "def calc(*args):\n    return {\n        'sum': sum(args),\n        'avg': sum(args) / len(args)\n    }\n                   \ncalc(1, 2, 2, 6, 7, 9, 10)",
      "metadata": {
        "trusted": true
      },
      "execution_count": 16,
      "outputs": [
        {
          "execution_count": 16,
          "output_type": "execute_result",
          "data": {
            "text/plain": "{'sum': 37, 'avg': 5.285714285714286}"
          },
          "metadata": {}
        }
      ],
      "id": "33395a0c-d7e3-4c2a-93d2-af6db336ce28"
    },
    {
      "cell_type": "markdown",
      "source": "## 4 задача\n### 4.1 Сгенерируйте случайные целые числа от 0 до 100 в количестве 5 штук с помощью модуля random\n- фиксируйте псевдогенерацию, чтобы сгенерированные значения всегда были одинаковые\n- пользуйте list comprehensions",
      "metadata": {},
      "id": "a5714a98-8421-4330-942d-21c6774bb889"
    },
    {
      "cell_type": "code",
      "source": "import random\nrandom.seed(6)\n\nnum = [random.randint(0, 100) for i in range(5)]\nnum",
      "metadata": {
        "trusted": true
      },
      "execution_count": 20,
      "outputs": [
        {
          "execution_count": 20,
          "output_type": "execute_result",
          "data": {
            "text/plain": "[73, 10, 62, 97, 33]"
          },
          "metadata": {}
        }
      ],
      "id": "a817481e-b289-4b4f-9009-65892a94ba0b"
    },
    {
      "cell_type": "markdown",
      "source": "## 4.2* Напишите генератор\n- Генератор на вход принимает список с данными о клиенте (данные из пункта 4.1)\n- Внутри генератора реализуйте обход по списку с данными\nНа каждой итерации генератор будет возвращать кортеж из двух элементов:\n\n1. данные по клиенту (в зависимости от итерации, на 0 итерации вернется 0 элемент, на 1 итерации вернется 1 элемент и тд)\n2. целочисленное значение, которое показывает, сколько секунд прошло с предыдущей итерации\nПримечание: секунды, которые возвращаются должны показывать время не с начала запуска генератора, а именно то время, которое прошло с предыдущей итерации. А значит время на первой итерации должно равняться 0.\n\n- *Используйте функцию time из модуля time для подсчета времени.\n- *Чтобы проверить работу таймера, запустите проход по генератору в цикле с time.sleep(2)",
      "metadata": {},
      "id": "e85f51b8-c035-427e-9c98-e91be404cc82"
    },
    {
      "cell_type": "code",
      "source": "import time\n\ndef elapced_since(data):\n    last_time = None\n    \n    for i in data:\n        currnet_time = time.time()\n        \n        if last_time:\n            delta = currnet_time - last_time\n        else:\n            delta = currnet_time - currnet_time\n        \n        last_time = time.time()\n        yield (int(delta), i)",
      "metadata": {
        "trusted": true
      },
      "execution_count": 25,
      "outputs": [],
      "id": "67b4d2d2-97f3-461f-94a6-b03a2c5cc654"
    },
    {
      "cell_type": "code",
      "source": "for i in elapced_since(num):\n    print(i)\n    time.sleep(2)",
      "metadata": {
        "trusted": true
      },
      "execution_count": 26,
      "outputs": [
        {
          "name": "stdout",
          "text": "(0, 73)\n(2, 10)\n(2, 62)\n(2, 97)\n(2, 33)\n",
          "output_type": "stream"
        }
      ],
      "id": "41e55261-3a0a-4ed5-ae68-4a1f91c4b0b5"
    },
    {
      "cell_type": "code",
      "source": "",
      "metadata": {},
      "execution_count": null,
      "outputs": [],
      "id": "da19b2dc-383e-4b7c-baa2-722aeda4d97b"
    }
  ]
}