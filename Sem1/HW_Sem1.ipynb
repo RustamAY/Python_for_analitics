{
  "metadata": {
    "language_info": {
      "codemirror_mode": {
        "name": "python",
        "version": 3
      },
      "file_extension": ".py",
      "mimetype": "text/x-python",
      "name": "python",
      "nbconvert_exporter": "python",
      "pygments_lexer": "ipython3",
      "version": "3.8"
    },
    "kernelspec": {
      "name": "python",
      "display_name": "Python (Pyodide)",
      "language": "python"
    }
  },
  "nbformat_minor": 4,
  "nbformat": 4,
  "cells": [
    {
      "cell_type": "markdown",
      "source": "## Условие 1:\nОформляйте ноутбук, используя эти советы:\n## Номер задачи - заголовок 2\n### Номер подзадачи - заголовок 3\n```\nПредоставленные наборы данных оформляйте, как код\n```\nРекомендации для преподавателей по оценке задания:\nСмотреть, чтобы студент красиво оформлял ноутбук, использовал ячейки с текстом, указывал номера заданий",
      "metadata": {}
    },
    {
      "cell_type": "markdown",
      "source": "## Условие 2:\nНа складе лежат разные фрукты в разном количестве.\nНужно написать функцию, которая на вход принимает любое количество названий фруктов и их количество, а возвращает общее количество фруктов на складе",
      "metadata": {}
    },
    {
      "cell_type": "code",
      "source": "def fruit_basket(**kwargs):\n    {print(f\"Фрукт {name} в количестве {values} шт\")\n     for name, values in kwargs.items()}\n    return print(f'Общее количество фрутов: {sum(kwargs.values())}')",
      "metadata": {
        "trusted": true
      },
      "execution_count": 1,
      "outputs": []
    },
    {
      "cell_type": "code",
      "source": "fruit_basket(\n    apple = 23,\n    orange = 15,\n    lemon = 5\n)",
      "metadata": {
        "trusted": true
      },
      "execution_count": 2,
      "outputs": [
        {
          "name": "stdout",
          "text": "Фрукт apple в количестве 23 шт\nФрукт orange в количестве 15 шт\nФрукт lemon в количестве 5 шт\nОбщее количество фрутов: 43\n",
          "output_type": "stream"
        }
      ]
    },
    {
      "cell_type": "markdown",
      "source": "## Условие 3:\nДан список с затратами на рекламу. Но в данных есть ошибки, некоторые затраты имеют отрицательную величину. Удалите такие значения из списка и посчитайте суммарные затраты\n[100, 125, -90, 345, 655, -1, 0, 200]\nИспользуйте list comprehensions",
      "metadata": {}
    },
    {
      "cell_type": "code",
      "source": "list_cosst = [100, 125, -95, 345, 655, -1, 0, 200]",
      "metadata": {
        "trusted": true
      },
      "execution_count": 5,
      "outputs": []
    },
    {
      "cell_type": "code",
      "source": "position_cosst = [i for i in list_cosst if i > 0]\nprint(f'Затраты на рекламу с положительными величинами {position_cosst}')\nf\"Суммарные затраты составляют: {sum(position_cosst)} \"",
      "metadata": {
        "trusted": true
      },
      "execution_count": 6,
      "outputs": [
        {
          "name": "stdout",
          "text": "Затраты на рекламу с положительными величинами [100, 125, 345, 655, 200]\n",
          "output_type": "stream"
        },
        {
          "execution_count": 6,
          "output_type": "execute_result",
          "data": {
            "text/plain": "'Суммарные затраты составляют: 1425 '"
          },
          "metadata": {}
        }
      ]
    },
    {
      "cell_type": "markdown",
      "source": "## Условие 4:\nДаны два списка.\n\nДата покупки\n\n['2021-09-14', '2021-12-15', '2021-09-08', '2021-12-05', '2021-10-09', '2021-09-30', '2021-12-22', '2021-11-29', '2021-12-24', '2021-11-26', '2021-10-27', '2021-12-18', '2021-11-09', '2021-11-23', '2021-09-27', '2021-10-02', '2021-12-27', '2021-09-20', '2021-12-13', '2021-11-01', '2021-11-09', '2021-12-06', '2021-12-08', '2021-10-09', '2021-10-31', '2021-09-30', '2021-11-09', '2021-12-13', '2021-10-26', '2021-12-09']\n\nСуммы покупок по датам\n\n[1270, 8413, 9028, 3703, 5739, 4095, 295, 4944, 5723, 3701, 4471, 651, 7037, 4274, 6275, 4988, 6930, 2971, 6592, 2004, 2822, 519, 3406, 2732, 5015, 2008, 316, 6333, 5700, 2887]",
      "metadata": {}
    },
    {
      "cell_type": "code",
      "source": "list_dates = ['2021-09-14', '2021-12-15', '2021-09-08', '2021-12-05', '2021-10-09', '2021-09-30', '2021-12-22', '2021-11-29', '2021-12-24', '2021-11-26', '2021-10-27', '2021-12-18', '2021-11-09', '2021-11-23', '2021-09-27',\n              '2021-10-02', '2021-12-27', '2021-09-20', '2021-12-13', '2021-11-01', '2021-11-09', '2021-12-06', '2021-12-08', '2021-10-09', '2021-10-31', '2021-09-30', '2021-11-09', '2021-12-13', '2021-10-26', '2021-12-09']\namount_by_date = [1270, 8413, 9028, 3703, 5739, 4095, 295, 4944, 5723, 3701, 4471, 651, 7037, 4274,\n                  6275, 4988, 6930, 2971, 6592, 2004, 2822, 519, 3406, 2732, 5015, 2008, 316, 6333, 5700, 2887]",
      "metadata": {
        "trusted": true
      },
      "execution_count": 7,
      "outputs": []
    },
    {
      "cell_type": "markdown",
      "source": "### 4.1 Найдите, какая выручка у компании в ноябре\nИспользуйте list comprehensions",
      "metadata": {}
    },
    {
      "cell_type": "code",
      "source": "list_Month = [i.split('-')[1] for i in list_dates]",
      "metadata": {
        "trusted": true
      },
      "execution_count": 8,
      "outputs": []
    },
    {
      "cell_type": "code",
      "source": "print(list_Month)",
      "metadata": {
        "trusted": true
      },
      "execution_count": 9,
      "outputs": [
        {
          "name": "stdout",
          "text": "['09', '12', '09', '12', '10', '09', '12', '11', '12', '11', '10', '12', '11', '11', '09', '10', '12', '09', '12', '11', '11', '12', '12', '10', '10', '09', '11', '12', '10', '12']\n",
          "output_type": "stream"
        }
      ]
    },
    {
      "cell_type": "code",
      "source": "tuple_November_Revenue = [(f'Месяц {list_Month[i]}', f'выручка {amount_by_date[j]}')\n                          for i in range(len(list_Month))\n                          for j in range(len(amount_by_date))\n                          if i == j and list_Month[i] == '11']\ntuple_November_Revenue",
      "metadata": {
        "trusted": true
      },
      "execution_count": 20,
      "outputs": [
        {
          "execution_count": 20,
          "output_type": "execute_result",
          "data": {
            "text/plain": "[('Месяц 11', 'выручка 4944'),\n ('Месяц 11', 'выручка 3701'),\n ('Месяц 11', 'выручка 7037'),\n ('Месяц 11', 'выручка 4274'),\n ('Месяц 11', 'выручка 2004'),\n ('Месяц 11', 'выручка 2822'),\n ('Месяц 11', 'выручка 316')]"
          },
          "metadata": {}
        }
      ]
    },
    {
      "cell_type": "code",
      "source": "print(tuple_November_Revenue[0][0], f'выручка составило: {sum([amount for dates, amount in zip(list_dates, amount_by_date)])}')",
      "metadata": {
        "trusted": true
      },
      "execution_count": 27,
      "outputs": [
        {
          "name": "stdout",
          "text": "Месяц 11 выручка составило: 124842\n",
          "output_type": "stream"
        }
      ]
    },
    {
      "cell_type": "markdown",
      "source": "### 4.2 Найдите выручку компании в зависимости от месяца\nДля этого напишите функцию, которая на вход принимает список с датами и список с выручкой, а на выходе словарь, где ключи - это месяцы, а значения - это выручка.\nИспользуйте аннотирование типов.",
      "metadata": {}
    },
    {
      "cell_type": "code",
      "source": "def revenue_by_month(list_date: list, list_revenue: list) -> dict:\n    dict_Month = {}\n    for i in range(len(list_date)):\n        if list_date[i].split('-')[1] in dict_Month.keys():\n            dict_Month[list_date[i].split('-')[1]] += list_revenue[i]\n        else:\n            dict_Month[list_date[i].split('-')[1]] = list_revenue[i]\n    return dict_Month",
      "metadata": {
        "trusted": true
      },
      "execution_count": 32,
      "outputs": []
    },
    {
      "cell_type": "code",
      "source": "revenue_by_month(list_dates, amount_by_date)",
      "metadata": {
        "trusted": true
      },
      "execution_count": 33,
      "outputs": [
        {
          "execution_count": 32,
          "output_type": "execute_result",
          "data": {
            "text/plain": "{'09': 25647, '12': 45452, '10': 28645, '11': 25098}"
          },
          "metadata": {}
        }
      ]
    },
    {
      "cell_type": "code",
      "source": "",
      "metadata": {},
      "execution_count": null,
      "outputs": []
    }
  ]
}